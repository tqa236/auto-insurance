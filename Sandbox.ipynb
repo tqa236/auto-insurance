{
 "cells": [
  {
   "cell_type": "code",
   "execution_count": null,
   "id": "sitting-agency",
   "metadata": {},
   "outputs": [],
   "source": [
    "df_test_raw = pd.read_csv(\"./data/test_auto.csv\")\n",
    "df_test_raw\n",
    "df_test = preprocess(df_test_raw)\n",
    "y_reg = df['TARGET_AMT'].values\n",
    "X_train, X_val, y_train, y_val = train_test_split(X, y_reg, test_size=0.2)\n",
    "catboost_reg = CatBoostRegressor(iterations=1000, learning_rate=0.005, depth=10,loss_function='RMSE')\n",
    "catboost_reg.fit(X_train, y_train, eval_set=(X_val, y_val), early_stopping_rounds=5)\n",
    "df_test_X = df_test.drop(['INDEX', 'TARGET_FLAG', \"TARGET_AMT\"], axis=1)\n",
    "X_test = columnTransformer.transform(df_test_X)\n",
    "preds = catboost_reg.predict(X_test)\n",
    "df_submission = pd.DataFrame(df_test[\"INDEX\"], columns =[\"INDEX\"])\n",
    "df_submission[\"p_target\"] = preds\n",
    "df_submission.to_csv(\"./data/preds_auto.csv\", index=False)"
   ]
  }
 ],
 "metadata": {
  "kernelspec": {
   "display_name": "Python 3",
   "language": "python",
   "name": "python3"
  },
  "language_info": {
   "codemirror_mode": {
    "name": "ipython",
    "version": 3
   },
   "file_extension": ".py",
   "mimetype": "text/x-python",
   "name": "python",
   "nbconvert_exporter": "python",
   "pygments_lexer": "ipython3",
   "version": "3.8.8"
  }
 },
 "nbformat": 4,
 "nbformat_minor": 5
}
